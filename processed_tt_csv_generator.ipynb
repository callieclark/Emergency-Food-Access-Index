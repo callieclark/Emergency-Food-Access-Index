{
 "cells": [
  {
   "cell_type": "markdown",
   "metadata": {},
   "source": [
    "## Combine TT DF with Demographic Info and Calculate Index\n",
    "Author: Callie Clark\n",
    "Last Updated: 6/8/2024"
   ]
  },
  {
   "cell_type": "code",
   "execution_count": 66,
   "metadata": {},
   "outputs": [],
   "source": [
    "import pandas as pd\n",
    "import matplotlib.pyplot as plt\n",
    "import geopandas as gpd\n",
    "import numpy as np\n",
    "import networkx as nx\n",
    "\n",
    "%matplotlib inline\n",
    "from TT_functions import *\n",
    "import random\n",
    "import json"
   ]
  },
  {
   "cell_type": "code",
   "execution_count": 67,
   "metadata": {
    "editable": true,
    "slideshow": {
     "slide_type": ""
    },
    "tags": []
   },
   "outputs": [],
   "source": [
    "def aggregate_tt(df_tt, time_period_colnames,cutoff):\n",
    "    df_tt['min']=df_tt.loc[:,time_period_colnames].min(axis=1)\n",
    "    df_tt['mean']=df_tt.loc[:,time_period_colnames].mean(axis=1)\n",
    "\n",
    "    df_tt['index']=(((df_tt.loc[:,time_period_colnames]<cutoff)*1).sum(axis=1))/len(time_period_colnames)\n",
    "   \n",
    "    \n",
    "    print('# periods',len(time_period_colnames))\n",
    "    return df_tt[(time_period_colnames+['min','mean','index'])]\n",
    "\n"
   ]
  },
  {
   "cell_type": "markdown",
   "metadata": {},
   "source": [
    "### Generate DF\n",
    "* Combine Mode Travel Times with demographics\n",
    "* calculate index and poverty indicator?"
   ]
  },
  {
   "cell_type": "code",
   "execution_count": 75,
   "metadata": {},
   "outputs": [],
   "source": [
    "df_demo_=pd.read_csv('CT_demog_FI_TCL.csv',index_col=0)\n",
    "\n",
    "csv_list=['df_tt_S1.csv', \n",
    "          'df_tt_S2.csv',\n",
    " 'df_tt_drive_k10.csv',\n",
    " 'df_tt_transit_k25.csv',\n",
    " 'df_tt_bike_k10.csv',\n",
    " 'df_tt_walk_k10.csv']"
   ]
  },
  {
   "cell_type": "code",
   "execution_count": 76,
   "metadata": {
    "tags": []
   },
   "outputs": [
    {
     "name": "stdout",
     "output_type": "stream",
     "text": [
      "# periods 1\n",
      "# periods 1\n",
      "# periods 28\n",
      "# periods 28\n",
      "# periods 28\n",
      "# periods 28\n",
      "# periods 28\n",
      "# periods 28\n",
      "# periods 28\n",
      "# periods 28\n",
      "# periods 28\n",
      "# periods 28\n"
     ]
    }
   ],
   "source": [
    "for csv in csv_list:\n",
    "    df_tt_=pd.read_csv('travel_time_df/'+csv,index_col=0)\n",
    "    df_tt_.columns=df_tt_.columns.str.replace('_test','')\n",
    "    df_tt_.columns=df_tt_.columns.str.replace('_tt_25','')\n",
    "    tt_3_colnames=[i for i in df_tt_.columns if 'tt_' in i]\n",
    "    tt_1_colnames=[i for i in df_tt_.columns if 'tt' in i and 'tt_3' not in i]\n",
    "    \n",
    "    df_tt_agg_1=aggregate_tt(df_tt_, tt_1_colnames,cutoff=20)\n",
    "    df_tt_1=df_tt_agg_1.merge(df_demo_,how='right',right_index=True,left_index=True).drop_duplicates()\n",
    "    #cite:https://data.census.gov/table/ACSDT5Y2021.B19019?q=median%20income%20household%20size&g=310XX00US35620\n",
    "    med_hh_inc_msa=86445\n",
    "    df_tt_1['poverty_ind']=((df_tt_1['percent_poverty']>=0.2)|(df_tt_1['Median_Income']<=(med_hh_inc_msa*0.8)))*1 #add poverty indicator\n",
    "    df_tt_1.to_csv('processed_df/'+csv[:-4]+'.csv')\n",
    "    \n",
    "    df_tt_agg_3=aggregate_tt(df_tt_, tt_3_colnames,cutoff=20)\n",
    "    df_tt_3=df_tt_agg_3.merge(df_demo_,how='right',right_index=True,left_index=True).drop_duplicates()\n",
    "    df_tt_3['poverty_ind']=((df_tt_3['percent_poverty']>=0.2)|(df_tt_3['Median_Income']<=(med_hh_inc_msa*0.8)))*1 #add poverty indicator\n",
    "    df_tt_3.to_csv('processed_df/'+csv[:-4]+'_3_.csv')"
   ]
  },
  {
   "cell_type": "markdown",
   "metadata": {},
   "source": [
    "## Create Combined Df by Mode"
   ]
  },
  {
   "cell_type": "code",
   "execution_count": 77,
   "metadata": {},
   "outputs": [
    {
     "name": "stderr",
     "output_type": "stream",
     "text": [
      "/tmp/ipykernel_2539/4027503607.py:6: SettingWithCopyWarning: \n",
      "A value is trying to be set on a copy of a slice from a DataFrame.\n",
      "Try using .loc[row_indexer,col_indexer] = value instead\n",
      "\n",
      "See the caveats in the documentation: https://pandas.pydata.org/pandas-docs/stable/user_guide/indexing.html#returning-a-view-versus-a-copy\n",
      "  mode_by_veh_owner['walk_weighted']=round(mode_by_veh_owner.percent_car_owners*vehicles['walk']+(1-mode_by_veh_owner.percent_car_owners)*no_vehicles['walk'],4)\n",
      "/tmp/ipykernel_2539/4027503607.py:7: SettingWithCopyWarning: \n",
      "A value is trying to be set on a copy of a slice from a DataFrame.\n",
      "Try using .loc[row_indexer,col_indexer] = value instead\n",
      "\n",
      "See the caveats in the documentation: https://pandas.pydata.org/pandas-docs/stable/user_guide/indexing.html#returning-a-view-versus-a-copy\n",
      "  mode_by_veh_owner['drive_weighted']=round(mode_by_veh_owner.percent_car_owners*vehicles['drive']+(1-mode_by_veh_owner.percent_car_owners)*no_vehicles['drive'],4)\n",
      "/tmp/ipykernel_2539/4027503607.py:8: SettingWithCopyWarning: \n",
      "A value is trying to be set on a copy of a slice from a DataFrame.\n",
      "Try using .loc[row_indexer,col_indexer] = value instead\n",
      "\n",
      "See the caveats in the documentation: https://pandas.pydata.org/pandas-docs/stable/user_guide/indexing.html#returning-a-view-versus-a-copy\n",
      "  mode_by_veh_owner['transit_weighted']=round(mode_by_veh_owner.percent_car_owners*vehicles['transit']+(1-mode_by_veh_owner.percent_car_owners)*no_vehicles['transit'],4)\n"
     ]
    },
    {
     "data": {
      "text/html": [
       "<div>\n",
       "<style scoped>\n",
       "    .dataframe tbody tr th:only-of-type {\n",
       "        vertical-align: middle;\n",
       "    }\n",
       "\n",
       "    .dataframe tbody tr th {\n",
       "        vertical-align: top;\n",
       "    }\n",
       "\n",
       "    .dataframe thead th {\n",
       "        text-align: right;\n",
       "    }\n",
       "</style>\n",
       "<table border=\"1\" class=\"dataframe\">\n",
       "  <thead>\n",
       "    <tr style=\"text-align: right;\">\n",
       "      <th></th>\n",
       "      <th>percent_car_owners</th>\n",
       "      <th>walk_weighted</th>\n",
       "      <th>drive_weighted</th>\n",
       "      <th>transit_weighted</th>\n",
       "    </tr>\n",
       "    <tr>\n",
       "      <th>GEOID</th>\n",
       "      <th></th>\n",
       "      <th></th>\n",
       "      <th></th>\n",
       "      <th></th>\n",
       "    </tr>\n",
       "  </thead>\n",
       "  <tbody>\n",
       "    <tr>\n",
       "      <th>36005000200</th>\n",
       "      <td>0.7644</td>\n",
       "      <td>0.3823</td>\n",
       "      <td>0.4181</td>\n",
       "      <td>0.1996</td>\n",
       "    </tr>\n",
       "    <tr>\n",
       "      <th>36005000400</th>\n",
       "      <td>0.7449</td>\n",
       "      <td>0.3873</td>\n",
       "      <td>0.4091</td>\n",
       "      <td>0.2036</td>\n",
       "    </tr>\n",
       "    <tr>\n",
       "      <th>36005001600</th>\n",
       "      <td>0.4449</td>\n",
       "      <td>0.4633</td>\n",
       "      <td>0.2706</td>\n",
       "      <td>0.2661</td>\n",
       "    </tr>\n",
       "    <tr>\n",
       "      <th>36005001901</th>\n",
       "      <td>0.3051</td>\n",
       "      <td>0.4988</td>\n",
       "      <td>0.2061</td>\n",
       "      <td>0.2952</td>\n",
       "    </tr>\n",
       "    <tr>\n",
       "      <th>36005001902</th>\n",
       "      <td>0.3564</td>\n",
       "      <td>0.4858</td>\n",
       "      <td>0.2297</td>\n",
       "      <td>0.2845</td>\n",
       "    </tr>\n",
       "  </tbody>\n",
       "</table>\n",
       "</div>"
      ],
      "text/plain": [
       "             percent_car_owners  walk_weighted  drive_weighted  \\\n",
       "GEOID                                                            \n",
       "36005000200              0.7644         0.3823          0.4181   \n",
       "36005000400              0.7449         0.3873          0.4091   \n",
       "36005001600              0.4449         0.4633          0.2706   \n",
       "36005001901              0.3051         0.4988          0.2061   \n",
       "36005001902              0.3564         0.4858          0.2297   \n",
       "\n",
       "             transit_weighted  \n",
       "GEOID                          \n",
       "36005000200            0.1996  \n",
       "36005000400            0.2036  \n",
       "36005001600            0.2661  \n",
       "36005001901            0.2952  \n",
       "36005001902            0.2845  "
      ]
     },
     "execution_count": 77,
     "metadata": {},
     "output_type": "execute_result"
    }
   ],
   "source": [
    "# data on mode based on vehicle use from https://www.nyc.gov/html/dot/html/about/citywide-mobility-survey.shtml\n",
    "no_vehicles={'walk':round(0.53/0.92,4), 'drive':round(0.06/0.92,4), 'transit':round(0.33/0.92,4)}\n",
    "vehicles={'walk':round(0.30/0.93,4), 'drive':round(0.49/0.93,4), 'transit':round(0.14/0.93,4)}\n",
    "#create dataframe where the mode is weighted by frequency wrt car ownership\n",
    "mode_by_veh_owner=df_demo_[['percent_car_owners']]\n",
    "mode_by_veh_owner['walk_weighted']=round(mode_by_veh_owner.percent_car_owners*vehicles['walk']+(1-mode_by_veh_owner.percent_car_owners)*no_vehicles['walk'],4)\n",
    "mode_by_veh_owner['drive_weighted']=round(mode_by_veh_owner.percent_car_owners*vehicles['drive']+(1-mode_by_veh_owner.percent_car_owners)*no_vehicles['drive'],4)\n",
    "mode_by_veh_owner['transit_weighted']=round(mode_by_veh_owner.percent_car_owners*vehicles['transit']+(1-mode_by_veh_owner.percent_car_owners)*no_vehicles['transit'],4)\n",
    "mode_by_veh_owner.head()"
   ]
  },
  {
   "cell_type": "code",
   "execution_count": 78,
   "metadata": {},
   "outputs": [
    {
     "data": {
      "text/plain": [
       "{'walk': 0.5761, 'drive': 0.0652, 'transit': 0.3587}"
      ]
     },
     "metadata": {},
     "output_type": "display_data"
    },
    {
     "data": {
      "text/plain": [
       "{'walk': 0.3226, 'drive': 0.5269, 'transit': 0.1505}"
      ]
     },
     "metadata": {},
     "output_type": "display_data"
    }
   ],
   "source": [
    "display(no_vehicles)\n",
    "display(vehicles)\n"
   ]
  },
  {
   "cell_type": "code",
   "execution_count": 79,
   "metadata": {},
   "outputs": [
    {
     "data": {
      "text/html": [
       "<div>\n",
       "<style scoped>\n",
       "    .dataframe tbody tr th:only-of-type {\n",
       "        vertical-align: middle;\n",
       "    }\n",
       "\n",
       "    .dataframe tbody tr th {\n",
       "        vertical-align: top;\n",
       "    }\n",
       "\n",
       "    .dataframe thead th {\n",
       "        text-align: right;\n",
       "    }\n",
       "</style>\n",
       "<table border=\"1\" class=\"dataframe\">\n",
       "  <thead>\n",
       "    <tr style=\"text-align: right;\">\n",
       "      <th></th>\n",
       "      <th>percent_car_owners</th>\n",
       "      <th>walk_weighted</th>\n",
       "      <th>drive_weighted</th>\n",
       "      <th>transit_weighted</th>\n",
       "    </tr>\n",
       "  </thead>\n",
       "  <tbody>\n",
       "    <tr>\n",
       "      <th>count</th>\n",
       "      <td>2196.000000</td>\n",
       "      <td>2196.000000</td>\n",
       "      <td>2196.000000</td>\n",
       "      <td>2196.000000</td>\n",
       "    </tr>\n",
       "    <tr>\n",
       "      <th>mean</th>\n",
       "      <td>0.516439</td>\n",
       "      <td>0.445184</td>\n",
       "      <td>0.303640</td>\n",
       "      <td>0.251177</td>\n",
       "    </tr>\n",
       "    <tr>\n",
       "      <th>std</th>\n",
       "      <td>0.242483</td>\n",
       "      <td>0.061468</td>\n",
       "      <td>0.111954</td>\n",
       "      <td>0.050484</td>\n",
       "    </tr>\n",
       "    <tr>\n",
       "      <th>min</th>\n",
       "      <td>0.029300</td>\n",
       "      <td>0.322600</td>\n",
       "      <td>0.078700</td>\n",
       "      <td>0.150500</td>\n",
       "    </tr>\n",
       "    <tr>\n",
       "      <th>25%</th>\n",
       "      <td>0.311425</td>\n",
       "      <td>0.392175</td>\n",
       "      <td>0.208975</td>\n",
       "      <td>0.207675</td>\n",
       "    </tr>\n",
       "    <tr>\n",
       "      <th>50%</th>\n",
       "      <td>0.496350</td>\n",
       "      <td>0.450300</td>\n",
       "      <td>0.294350</td>\n",
       "      <td>0.255350</td>\n",
       "    </tr>\n",
       "    <tr>\n",
       "      <th>75%</th>\n",
       "      <td>0.725450</td>\n",
       "      <td>0.497125</td>\n",
       "      <td>0.400150</td>\n",
       "      <td>0.293825</td>\n",
       "    </tr>\n",
       "    <tr>\n",
       "      <th>max</th>\n",
       "      <td>1.000000</td>\n",
       "      <td>0.568700</td>\n",
       "      <td>0.526900</td>\n",
       "      <td>0.352600</td>\n",
       "    </tr>\n",
       "  </tbody>\n",
       "</table>\n",
       "</div>"
      ],
      "text/plain": [
       "       percent_car_owners  walk_weighted  drive_weighted  transit_weighted\n",
       "count         2196.000000    2196.000000     2196.000000       2196.000000\n",
       "mean             0.516439       0.445184        0.303640          0.251177\n",
       "std              0.242483       0.061468        0.111954          0.050484\n",
       "min              0.029300       0.322600        0.078700          0.150500\n",
       "25%              0.311425       0.392175        0.208975          0.207675\n",
       "50%              0.496350       0.450300        0.294350          0.255350\n",
       "75%              0.725450       0.497125        0.400150          0.293825\n",
       "max              1.000000       0.568700        0.526900          0.352600"
      ]
     },
     "execution_count": 79,
     "metadata": {},
     "output_type": "execute_result"
    }
   ],
   "source": [
    "mode_by_veh_owner.describe()"
   ]
  },
  {
   "cell_type": "code",
   "execution_count": 80,
   "metadata": {},
   "outputs": [
    {
     "name": "stdout",
     "output_type": "stream",
     "text": [
      "# periods 28\n"
     ]
    }
   ],
   "source": [
    "#create combined df\n",
    "drive_df=pd.read_csv('processed_df/df_tt_drive_k10_3.csv',index_col=0)\n",
    "transit_df=pd.read_csv('processed_df/df_tt_transit_k25_3.csv',index_col=0)\n",
    "walk_df=pd.read_csv('processed_df/df_tt_walk_k10_3.csv',index_col=0)\n",
    "\n",
    "#use df with average tt to three closest pantries\n",
    "tt_3_colnames=[i for i in transit_df.columns if 'tt_' in i]\n",
    "df_transit_weighted=transit_df.loc[:,tt_3_colnames].multiply(mode_by_veh_owner['transit_weighted'], axis=\"index\")\n",
    "df_walk_weighted=walk_df.loc[:,tt_3_colnames].multiply(mode_by_veh_owner['walk_weighted'], axis=\"index\")\n",
    "df_drive_weighted=drive_df.loc[:,tt_3_colnames].multiply(mode_by_veh_owner['drive_weighted'], axis=\"index\")\n",
    "df_comb_tt=df_transit_weighted+df_walk_weighted+df_drive_weighted\n",
    "df_comb_tt_=aggregate_tt(df_comb_tt.round(2), tt_3_colnames,cutoff=20)\n",
    "df_comb_tt_final=df_comb_tt_.merge(df_demo_,how='right',right_index=True,left_index=True).drop_duplicates()\n",
    "df_comb_tt_final['poverty_ind']=((df_comb_tt_final['percent_poverty']>=0.2)|(df_comb_tt_final['Median_Income']<=(med_hh_inc_msa*0.8)))*1 #add poverty indicator\n",
    "df_comb_tt_final.to_csv('processed_df/df_tt_EFAI_3.csv')"
   ]
  },
  {
   "cell_type": "code",
   "execution_count": 81,
   "metadata": {},
   "outputs": [
    {
     "name": "stdout",
     "output_type": "stream",
     "text": [
      "# periods 28\n"
     ]
    }
   ],
   "source": [
    "#create combined df\n",
    "drive_df=pd.read_csv('processed_df/df_tt_drive_k10.csv',index_col=0)\n",
    "transit_df=pd.read_csv('processed_df/df_tt_transit_k25.csv',index_col=0)\n",
    "walk_df=pd.read_csv('processed_df/df_tt_walk_k10.csv',index_col=0)\n",
    "\n",
    "#use df with tt to closest pantries\n",
    "tt_1_colnames=[i for i in df_tt_.columns if 'tt' in i and 'tt_3' not in i]\n",
    "df_transit_weighted=transit_df.loc[:,tt_1_colnames].multiply(mode_by_veh_owner['transit_weighted'], axis=\"index\")\n",
    "df_walk_weighted=walk_df.loc[:,tt_1_colnames].multiply(mode_by_veh_owner['walk_weighted'], axis=\"index\")\n",
    "df_drive_weighted=drive_df.loc[:,tt_1_colnames].multiply(mode_by_veh_owner['drive_weighted'], axis=\"index\")\n",
    "df_comb_tt=df_transit_weighted+df_walk_weighted+df_drive_weighted\n",
    "df_comb_tt_=aggregate_tt(df_comb_tt.round(2), tt_1_colnames,cutoff=20)\n",
    "df_comb_tt_final=df_comb_tt_.merge(df_demo_,how='right',right_index=True,left_index=True).drop_duplicates()\n",
    "df_comb_tt_final['poverty_ind']=((df_comb_tt_final['percent_poverty']>=0.2)|(df_comb_tt_final['Median_Income']<=(med_hh_inc_msa*0.8)))*1 #add poverty indicator\n",
    "df_comb_tt_final.to_csv('processed_df/df_tt_EFAI.csv')"
   ]
  },
  {
   "cell_type": "code",
   "execution_count": null,
   "metadata": {},
   "outputs": [],
   "source": []
  }
 ],
 "metadata": {
  "kernelspec": {
   "display_name": "Python [conda env:skmob]",
   "language": "python",
   "name": "skmob"
  },
  "language_info": {
   "codemirror_mode": {
    "name": "ipython",
    "version": 3
   },
   "file_extension": ".py",
   "mimetype": "text/x-python",
   "name": "python",
   "nbconvert_exporter": "python",
   "pygments_lexer": "ipython3",
   "version": "3.9.17"
  }
 },
 "nbformat": 4,
 "nbformat_minor": 4
}
